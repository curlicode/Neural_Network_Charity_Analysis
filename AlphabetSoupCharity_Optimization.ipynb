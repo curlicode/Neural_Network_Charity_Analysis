{
 "cells": [
  {
   "cell_type": "markdown",
   "metadata": {},
   "source": [
    "## Deliverable 3: Optimize the Model (20 points)"
   ]
  },
  {
   "cell_type": "code",
   "execution_count": 1,
   "metadata": {},
   "outputs": [
    {
     "name": "stdout",
     "output_type": "stream",
     "text": [
      "        EIN                                      NAME APPLICATION_TYPE  \\\n",
      "0  10520599              BLUE KNIGHTS MOTORCYCLE CLUB              T10   \n",
      "1  10531628    AMERICAN CHESAPEAKE CLUB CHARITABLE TR               T3   \n",
      "2  10547893        ST CLOUD PROFESSIONAL FIREFIGHTERS               T5   \n",
      "3  10553066            SOUTHSIDE ATHLETIC ASSOCIATION               T3   \n",
      "4  10556103  GENETIC RESEARCH INSTITUTE OF THE DESERT               T3   \n",
      "\n",
      "        AFFILIATION CLASSIFICATION      USE_CASE  ORGANIZATION  STATUS  \\\n",
      "0       Independent          C1000    ProductDev   Association       1   \n",
      "1       Independent          C2000  Preservation  Co-operative       1   \n",
      "2  CompanySponsored          C3000    ProductDev   Association       1   \n",
      "3  CompanySponsored          C2000  Preservation         Trust       1   \n",
      "4       Independent          C1000     Heathcare         Trust       1   \n",
      "\n",
      "      INCOME_AMT SPECIAL_CONSIDERATIONS  ASK_AMT  IS_SUCCESSFUL  \n",
      "0              0                      N     5000              1  \n",
      "1         1-9999                      N   108590              1  \n",
      "2              0                      N     5000              0  \n",
      "3    10000-24999                      N     6692              1  \n",
      "4  100000-499999                      N   142590              1  \n",
      "['APPLICATION_TYPE', 'AFFILIATION', 'CLASSIFICATION', 'USE_CASE', 'ORGANIZATION', 'STATUS', 'INCOME_AMT', 'SPECIAL_CONSIDERATIONS', 'ASK_AMT', 'IS_SUCCESSFUL']\n"
     ]
    }
   ],
   "source": [
    "# Import our dependencies\n",
    "from sklearn.model_selection import train_test_split\n",
    "from sklearn.preprocessing import StandardScaler,OneHotEncoder\n",
    "import pandas as pd\n",
    "import tensorflow as tf\n",
    "\n",
    "#  Import and read the charity_data.csv.\n",
    "application_df = pd.read_csv(\"../Resources/charity_data.csv\")\n",
    "print(application_df.head()) # preview data\n",
    "# Drop the EIN and NAME columns.\n",
    "application_df.drop(labels = ['EIN', 'NAME'], axis = 1, inplace = True) # drop EIN and NAME columns # unused\n",
    "print(list(application_df.columns))"
   ]
  },
  {
   "cell_type": "markdown",
   "metadata": {},
   "source": [
    "#### Noisy variables are removed from features (2.5 pt)"
   ]
  },
  {
   "cell_type": "code",
   "execution_count": 2,
   "metadata": {},
   "outputs": [
    {
     "name": "stdout",
     "output_type": "stream",
     "text": [
      "field unique counts\n",
      "APPLICATION_TYPE            17\n",
      "AFFILIATION                  6\n",
      "CLASSIFICATION              71\n",
      "USE_CASE                     5\n",
      "ORGANIZATION                 4\n",
      "STATUS                       2\n",
      "INCOME_AMT                   9\n",
      "SPECIAL_CONSIDERATIONS       2\n",
      "ASK_AMT                   8747\n",
      "IS_SUCCESSFUL                2\n",
      "dtype: int64\n",
      "\n",
      "columns with more than 10 unique values ['APPLICATION_TYPE', 'CLASSIFICATION', 'ASK_AMT']\n"
     ]
    }
   ],
   "source": [
    "# Determine the number of unique values in each column.\n",
    "# The columns with more than 10 unique values have been grouped together (5 pt)\n",
    "application_counts = application_df.nunique()\n",
    "print(f\"field unique counts\\n{application_counts}\\n\")\n",
    "\n",
    "bin_fields = list(application_counts[application_counts > 10].index)\n",
    "print(f\"columns with more than 10 unique values {bin_fields}\")"
   ]
  },
  {
   "cell_type": "code",
   "execution_count": 3,
   "metadata": {},
   "outputs": [
    {
     "name": "stdout",
     "output_type": "stream",
     "text": [
      "C1000    17326\n",
      "C2000     6074\n",
      "C1200     4837\n",
      "C3000     1918\n",
      "C2100     1883\n",
      "         ...  \n",
      "C4120        1\n",
      "C8210        1\n",
      "C2561        1\n",
      "C4500        1\n",
      "C2150        1\n",
      "Name: CLASSIFICATION, Length: 71, dtype: int64\n"
     ]
    },
    {
     "data": {
      "image/png": "[encoded data removed]",
      "text/plain": [
       "<Figure size 432x288 with 1 Axes>"
      ]
     },
     "metadata": {
      "needs_background": "light"
     },
     "output_type": "display_data"
    }
   ],
   "source": [
    "# Determine which values to replace if counts are less than ...?\n",
    "class_counts = application_df.CLASSIFICATION.value_counts()\n",
    "print(class_counts)\n",
    "class_counts.plot.density()\n",
    "replace_application = list(class_counts[class_counts < 1000].index)\n",
    "\n",
    "# Replace in dataframe\n",
    "for app in replace_application:\n",
    "    application_df.CLASSIFICATION = application_df.CLASSIFICATION.replace(app, \"Other\")"
   ]
  },
  {
   "cell_type": "code",
   "execution_count": 4,
   "metadata": {},
   "outputs": [
    {
     "name": "stdout",
     "output_type": "stream",
     "text": [
      "C1000    17326\n",
      "C2000     6074\n",
      "C1200     4837\n",
      "Other     2261\n",
      "C3000     1918\n",
      "C2100     1883\n",
      "Name: CLASSIFICATION, dtype: int64\n"
     ]
    },
    {
     "data": {
      "text/plain": [
       "<AxesSubplot:ylabel='Density'>"
      ]
     },
     "execution_count": 4,
     "metadata": {},
     "output_type": "execute_result"
    },
    {
     "data": {
      "image/png": "[encoded data removed]",
      "text/plain": [
       "<Figure size 432x288 with 1 Axes>"
      ]
     },
     "metadata": {
      "needs_background": "light"
     },
     "output_type": "display_data"
    }
   ],
   "source": [
    "# Check to make sure binning was successful\n",
    "class_counts = application_df.CLASSIFICATION.value_counts()\n",
    "print(class_counts)\n",
    "class_counts.plot.density()"
   ]
  },
  {
   "cell_type": "code",
   "execution_count": 5,
   "metadata": {},
   "outputs": [
    {
     "name": "stdout",
     "output_type": "stream",
     "text": [
      "T3     27037\n",
      "T4      1542\n",
      "T6      1216\n",
      "T5      1173\n",
      "T19     1065\n",
      "T8       737\n",
      "T7       725\n",
      "T10      528\n",
      "T9       156\n",
      "T13       66\n",
      "T12       27\n",
      "T2        16\n",
      "T25        3\n",
      "T14        3\n",
      "T29        2\n",
      "T15        2\n",
      "T17        1\n",
      "Name: APPLICATION_TYPE, dtype: int64\n"
     ]
    },
    {
     "data": {
      "text/plain": [
       "<AxesSubplot:ylabel='Density'>"
      ]
     },
     "execution_count": 5,
     "metadata": {},
     "output_type": "execute_result"
    },
    {
     "data": {
      "image/png": "[encoded data removed]",
      "text/plain": [
       "<Figure size 432x288 with 1 Axes>"
      ]
     },
     "metadata": {
      "needs_background": "light"
     },
     "output_type": "display_data"
    }
   ],
   "source": [
    "# Determine which values to replace if counts are less than ...?\n",
    "type_counts = application_df.APPLICATION_TYPE.value_counts()\n",
    "print(type_counts)\n",
    "type_counts.plot.density()"
   ]
  },
  {
   "cell_type": "code",
   "execution_count": 6,
   "metadata": {},
   "outputs": [
    {
     "name": "stdout",
     "output_type": "stream",
     "text": [
      "T3       27037\n",
      "Other     2266\n",
      "T4        1542\n",
      "T6        1216\n",
      "T5        1173\n",
      "T19       1065\n",
      "Name: APPLICATION_TYPE, dtype: int64\n"
     ]
    },
    {
     "data": {
      "text/plain": [
       "<AxesSubplot:ylabel='Density'>"
      ]
     },
     "execution_count": 6,
     "metadata": {},
     "output_type": "execute_result"
    },
    {
     "data": {
      "image/png": "[encoded data removed]",
      "text/plain": [
       "<Figure size 432x288 with 1 Axes>"
      ]
     },
     "metadata": {
      "needs_background": "light"
     },
     "output_type": "display_data"
    }
   ],
   "source": [
    "replace_application = list(type_counts[type_counts < 1000].index)\n",
    "\n",
    "# Replace in dataframe\n",
    "for app in replace_application:\n",
    "    application_df.APPLICATION_TYPE = application_df.APPLICATION_TYPE.replace(app,\"Other\")\n",
    "\n",
    "# Check to make sure binning was successful\n",
    "type_counts = application_df.APPLICATION_TYPE.value_counts()\n",
    "print(type_counts)\n",
    "type_counts.plot.density()"
   ]
  },
  {
   "cell_type": "code",
   "execution_count": 7,
   "metadata": {},
   "outputs": [],
   "source": [
    "# custom defined function to bucket/bin data\n",
    "def lump_income(row):\n",
    "    income = row['INCOME_AMT']\n",
    "    updated_income = 0\n",
    "    if income == '0':\n",
    "        updated_income = 0\n",
    "    elif income == '1-9999':\n",
    "        updated_income = 10000\n",
    "    elif income == '10000-24999':\n",
    "        updated_income = 30000\n",
    "    elif income == '25000-99999':\n",
    "        updated_income = 100000\n",
    "    elif income == '100000-499999':\n",
    "        updated_income = 500000\n",
    "    elif income == '1M-5M':\n",
    "        updated_income = 1000000\n",
    "    elif income == '5M-10M':\n",
    "        updated_income = 5000000\n",
    "    elif income == '10M-50M':\n",
    "        updated_income = 10000000\n",
    "    elif income == '50M+':\n",
    "        updated_income = 10000000\n",
    "    else: \n",
    "        updated_income = income\n",
    "    return updated_income\n",
    "\n",
    "# custom defined function to bucket/bin ask amounts\n",
    "def lump_ask(val, intervals):\n",
    "    for i, boundary in enumerate(intervals):\n",
    "        if int(val) >= boundary[0] and val < boundary[1]:\n",
    "            return i\n",
    "    return 0"
   ]
  },
  {
   "cell_type": "code",
   "execution_count": 8,
   "metadata": {},
   "outputs": [
    {
     "name": "stdout",
     "output_type": "stream",
     "text": [
      "5000        25398\n",
      "10478           3\n",
      "15583           3\n",
      "63981           3\n",
      "6725            3\n",
      "            ...  \n",
      "5371754         1\n",
      "30060           1\n",
      "43091152        1\n",
      "18683           1\n",
      "36500179        1\n",
      "Name: ASK_AMT, Length: 8747, dtype: int64\n"
     ]
    },
    {
     "data": {
      "text/plain": [
       "<AxesSubplot:ylabel='Density'>"
      ]
     },
     "execution_count": 8,
     "metadata": {},
     "output_type": "execute_result"
    },
    {
     "data": {
      "image/png": "[encoded data removed]",
      "text/plain": [
       "<Figure size 432x288 with 1 Axes>"
      ]
     },
     "metadata": {
      "needs_background": "light"
     },
     "output_type": "display_data"
    }
   ],
   "source": [
    "# Determine which values to replace if counts are less than ...?\n",
    "ask_counts = application_df.ASK_AMT.value_counts()\n",
    "print(ask_counts)\n",
    "ask_counts.plot.density()"
   ]
  },
  {
   "cell_type": "code",
   "execution_count": 9,
   "metadata": {},
   "outputs": [
    {
     "name": "stdout",
     "output_type": "stream",
     "text": [
      "0     34187\n",
      "1        33\n",
      "2        24\n",
      "3         9\n",
      "10        7\n",
      "4         5\n",
      "6         5\n",
      "8         5\n",
      "5         4\n",
      "11        3\n",
      "16        3\n",
      "26        2\n",
      "12        1\n",
      "15        1\n",
      "54        1\n",
      "20        1\n",
      "7         1\n",
      "14        1\n",
      "39        1\n",
      "13        1\n",
      "22        1\n",
      "19        1\n",
      "65        1\n",
      "99        1\n",
      "Name: ASK_AMT_GROUP, dtype: int64\n"
     ]
    },
    {
     "data": {
      "text/plain": [
       "<AxesSubplot:ylabel='Density'>"
      ]
     },
     "execution_count": 9,
     "metadata": {},
     "output_type": "execute_result"
    },
    {
     "data": {
      "image/png": "[encoded data removed]",
      "text/plain": [
       "<Figure size 432x288 with 1 Axes>"
      ]
     },
     "metadata": {
      "needs_background": "light"
     },
     "output_type": "display_data"
    }
   ],
   "source": [
    "# Replace in dataframe\n",
    "diff = application_df.ASK_AMT.max() - application_df.ASK_AMT.min()\n",
    "block_size = int(diff / 100)\n",
    "intervals = int(diff / block_size)\n",
    "intervals_list = [(i, (i + 1) * block_size) for i in range(intervals)]\n",
    "application_df['ASK_AMT_GROUP'] = application_df.ASK_AMT.apply(lambda x: lump_ask(x, intervals_list))\n",
    "    \n",
    "# Check to make sure binning was successful\n",
    "ask_counts = application_df.ASK_AMT_GROUP.value_counts()\n",
    "print(ask_counts)\n",
    "ask_counts.plot.density()"
   ]
  },
  {
   "cell_type": "code",
   "execution_count": 10,
   "metadata": {},
   "outputs": [
    {
     "name": "stdout",
     "output_type": "stream",
     "text": [
      "0                24388\n",
      "25000-99999       3747\n",
      "100000-499999     3374\n",
      "1M-5M              955\n",
      "1-9999             728\n",
      "10000-24999        543\n",
      "10M-50M            240\n",
      "5M-10M             185\n",
      "50M+               139\n",
      "Name: INCOME_AMT, dtype: int64\n"
     ]
    },
    {
     "data": {
      "text/plain": [
       "<AxesSubplot:ylabel='Density'>"
      ]
     },
     "execution_count": 10,
     "metadata": {},
     "output_type": "execute_result"
    },
    {
     "data": {
      "image/png": "[encoded data removed]",
      "text/plain": [
       "<Figure size 432x288 with 1 Axes>"
      ]
     },
     "metadata": {
      "needs_background": "light"
     },
     "output_type": "display_data"
    }
   ],
   "source": [
    "# Determine which values to replace if counts are less than ...?\n",
    "income_counts = application_df.INCOME_AMT.value_counts()\n",
    "print(income_counts)\n",
    "income_counts.plot.density()"
   ]
  },
  {
   "cell_type": "code",
   "execution_count": 11,
   "metadata": {},
   "outputs": [
    {
     "name": "stdout",
     "output_type": "stream",
     "text": [
      "0           24388\n",
      "100000       3747\n",
      "500000       3374\n",
      "1000000       955\n",
      "10000         728\n",
      "30000         543\n",
      "10000000      379\n",
      "5000000       185\n",
      "Name: INCOME_AMT, dtype: int64\n"
     ]
    },
    {
     "data": {
      "text/plain": [
       "<AxesSubplot:ylabel='Density'>"
      ]
     },
     "execution_count": 11,
     "metadata": {},
     "output_type": "execute_result"
    },
    {
     "data": {
      "image/png": "[encoded data removed]",
      "text/plain": [
       "<Figure size 432x288 with 1 Axes>"
      ]
     },
     "metadata": {
      "needs_background": "light"
     },
     "output_type": "display_data"
    }
   ],
   "source": [
    "# Replace in dataframe\n",
    "application_df.INCOME_AMT = application_df.apply(lump_income, axis=1)\n",
    "    \n",
    "# Check to make sure binning was successful\n",
    "income_counts = application_df.INCOME_AMT.value_counts()\n",
    "print(income_counts)\n",
    "income_counts.plot.density()"
   ]
  },
  {
   "cell_type": "code",
   "execution_count": 12,
   "metadata": {},
   "outputs": [
    {
     "data": {
      "text/plain": [
       "Index(['APPLICATION_TYPE', 'AFFILIATION', 'CLASSIFICATION', 'USE_CASE',\n",
       "       'ORGANIZATION', 'STATUS', 'INCOME_AMT', 'SPECIAL_CONSIDERATIONS',\n",
       "       'ASK_AMT', 'IS_SUCCESSFUL', 'ASK_AMT_GROUP'],\n",
       "      dtype='object')"
      ]
     },
     "execution_count": 12,
     "metadata": {},
     "output_type": "execute_result"
    }
   ],
   "source": [
    "application_df.columns"
   ]
  },
  {
   "cell_type": "code",
   "execution_count": 13,
   "metadata": {},
   "outputs": [],
   "source": [
    "# Generate our categorical variable lists\n",
    "# The categorical variables have been encoded using one-hot encoding (5 pt)\n",
    "application_cat = application_df.dtypes[application_df.dtypes == \"object\"].index.tolist()\n",
    "y = application_df.IS_SUCCESSFUL\n",
    "# 'APPLICATION_TYPE', 'AFFILIATION'\n",
    "#, 'CLASSIFICATION', 'USE_CASE'\n",
    "#, 'ORGANIZATION', 'STATUS'\n",
    "#, 'INCOME_AMT', 'SPECIAL_CONSIDERATIONS'\n",
    "#, 'ASK_AMT', 'IS_SUCCESSFUL']\n",
    "\n",
    "# Create a OneHotEncoder instance\n",
    "enc = OneHotEncoder(sparse=False)\n",
    "\n",
    "# Fit and transform the OneHotEncoder using the categorical variable list\n",
    "encode_df = pd.DataFrame(enc.fit_transform(application_df[application_cat].values))\n",
    "\n",
    "# Add the encoded variable names to the dataframe\n",
    "encode_df.columns = enc.get_feature_names(application_cat)\n",
    "encode_df.head()\n",
    "\n",
    "# Merge one-hot encoded features and drop the originals\n",
    "application_df = application_df.merge(encode_df, left_index = True, right_index = True).drop(labels = application_cat, axis = 1)\n",
    "\n",
    "# Split our preprocessed data into our features and target arrays\n",
    "# The preprocessed data is split into features and target arrays (5 pt)\n",
    "\n",
    "X = application_df\n",
    "\n",
    "# Split the preprocessed data into a training and testing dataset\n",
    "# The preprocessed data is split into training and testing datasets (5 pt)\n",
    "X_train, X_test, y_train, y_test = train_test_split(X, y, random_state = 42)"
   ]
  },
  {
   "cell_type": "code",
   "execution_count": 14,
   "metadata": {},
   "outputs": [],
   "source": [
    "# from sklearn.preprocessing import MinMaxScaler\n",
    "# Create a StandardScaler instances\n",
    "# The numerical values have been standardized using the StandardScaler() module (5 pt)\n",
    "# scaler = MinMaxScaler()\n",
    "scaler = StandardScaler()\n",
    "\n",
    "# Fit the StandardScaler\n",
    "X_scaler = scaler.fit(X_train)\n",
    "\n",
    "# Scale the data\n",
    "X_train_scaled = X_scaler.transform(X_train)\n",
    "X_test_scaled = X_scaler.transform(X_test)"
   ]
  },
  {
   "cell_type": "markdown",
   "metadata": {},
   "source": [
    "#### Additional neurons are added to hidden layers (2.5 pt)"
   ]
  },
  {
   "cell_type": "code",
   "execution_count": 15,
   "metadata": {},
   "outputs": [
    {
     "name": "stderr",
     "output_type": "stream",
     "text": [
      "2022-04-12 22:52:06.511566: I tensorflow/core/platform/cpu_feature_guard.cc:151] This TensorFlow binary is optimized with oneAPI Deep Neural Network Library (oneDNN) to use the following CPU instructions in performance-critical operations:  AVX2 FMA\n",
      "To enable them in other operations, rebuild TensorFlow with the appropriate compiler flags.\n"
     ]
    }
   ],
   "source": [
    "number_input_features = X_train_scaled.shape[1]\n",
    "number_input_features\n",
    "\n",
    "# Define the model - deep neural net, i.e., the number of input features and hidden nodes for each layer.\n",
    "hidden_nodes_layer1 = 100\n",
    "# hidden_nodes_layer2 = 80\n",
    "# hidden_nodes_layer3 = 80\n",
    "hidden_nodes_layer4 = 50\n",
    "# hidden_nodes_layer5 = 30\n",
    "# hidden_nodes_layer6 = 30\n",
    "# hidden_nodes_layer7 = 30\n",
    "# hidden_nodes_layer8 = 30\n",
    "hidden_nodes_output = 1\n",
    "\n",
    "nn_optimized = tf.keras.models.Sequential()"
   ]
  },
  {
   "cell_type": "markdown",
   "metadata": {},
   "source": [
    "#### Additional hidden layers are added (5 pt)\n",
    "#### The activation function of hidden layers or output layers is changed for optimization (5 pt)"
   ]
  },
  {
   "cell_type": "code",
   "execution_count": 16,
   "metadata": {},
   "outputs": [
    {
     "data": {
      "text/plain": [
       "34"
      ]
     },
     "execution_count": 16,
     "metadata": {},
     "output_type": "execute_result"
    }
   ],
   "source": [
    "number_input_features"
   ]
  },
  {
   "cell_type": "code",
   "execution_count": 17,
   "metadata": {},
   "outputs": [
    {
     "name": "stdout",
     "output_type": "stream",
     "text": [
      "Model: \"sequential\"\n",
      "_________________________________________________________________\n",
      " Layer (type)                Output Shape              Param #   \n",
      "=================================================================\n",
      " dense (Dense)               (None, 100)               3500      \n",
      "                                                                 \n",
      " layer_4 (Dense)             (None, 50)                5050      \n",
      "                                                                 \n",
      " layer_o (Dense)             (None, 1)                 51        \n",
      "                                                                 \n",
      "=================================================================\n",
      "Total params: 8,601\n",
      "Trainable params: 8,601\n",
      "Non-trainable params: 0\n",
      "_________________________________________________________________\n"
     ]
    }
   ],
   "source": [
    "# Additional hidden layers are added (5 pt)\n",
    "# The activation function of hidden layers or output layers is changed for optimization (5 pt)\n",
    "\n",
    "# # First hidden layer\n",
    "nn_optimized.add(tf.keras.layers.Dense(units = hidden_nodes_layer1, input_dim = number_input_features, activation = \"relu\", name = \"dense\"))\n",
    "\n",
    "# # Additional hidden layer(s)\n",
    "# nn_optimized.add(tf.keras.layers.Dense(units = hidden_nodes_layer2, activation = \"relu\", name = \"layer_2\"))\n",
    "# nn_optimized.add(tf.keras.layers.Dense(units = hidden_nodes_layer3, activation = \"relu\", name = \"layer_3\"))\n",
    "nn_optimized.add(tf.keras.layers.Dense(units = hidden_nodes_layer4, activation = \"relu\", name = \"layer_4\"))\n",
    "# nn.add(tf.keras.layers.Dense(units = hidden_nodes_layer5, activation = \"relu\", name = \"layer_5\"))\n",
    "# nn.add(tf.keras.layers.Dense(units = hidden_nodes_layer6, activation = \"relu\", name = \"layer_6\"))\n",
    "# nn.add(tf.keras.layers.Dense(units = hidden_nodes_layer6, activation = \"relu\", name = \"layer_7\"))\n",
    "# nn.add(tf.keras.layers.Dense(units = hidden_nodes_layer6, activation = \"relu\", name = \"layer_8\"))\n",
    "\n",
    "# # Output layer\n",
    "nn_optimized.add(tf.keras.layers.Dense(units = hidden_nodes_output, activation = \"sigmoid\", name = \"layer_o\"))\n",
    "\n",
    "# # Check the structure of the model\n",
    "nn_optimized.summary()"
   ]
  },
  {
   "cell_type": "markdown",
   "metadata": {},
   "source": [
    "#### The model's weights are saved every 5 epochs (2.5 pt)"
   ]
  },
  {
   "cell_type": "code",
   "execution_count": 18,
   "metadata": {},
   "outputs": [
    {
     "name": "stdout",
     "output_type": "stream",
     "text": [
      "WARNING:tensorflow:`period` argument is deprecated. Please use `save_freq` to specify the frequency in number of batches seen.\n",
      "Epoch 1/10\n",
      "804/804 [==============================] - 3s 3ms/step - loss: 0.0444 - accuracy: 0.9902\n",
      "Epoch 2/10\n",
      "804/804 [==============================] - 3s 3ms/step - loss: 0.0036 - accuracy: 0.9993\n",
      "Epoch 3/10\n",
      "804/804 [==============================] - 2s 2ms/step - loss: 0.0023 - accuracy: 0.9996\n",
      "Epoch 4/10\n",
      "804/804 [==============================] - 2s 3ms/step - loss: 0.0015 - accuracy: 0.9997\n",
      "Epoch 5/10\n",
      "797/804 [============================>.] - ETA: 0s - loss: 0.0036 - accuracy: 0.9995\n",
      "Epoch 5: saving model to ../Resources/checkpoints/opt-weights.05.hdf5\n",
      "804/804 [==============================] - 3s 3ms/step - loss: 0.0036 - accuracy: 0.9995\n",
      "Epoch 6/10\n",
      "804/804 [==============================] - 2s 2ms/step - loss: 8.0704e-04 - accuracy: 0.9998\n",
      "Epoch 7/10\n",
      "804/804 [==============================] - 2s 2ms/step - loss: 7.2428e-04 - accuracy: 0.9998\n",
      "Epoch 8/10\n",
      "804/804 [==============================] - 3s 3ms/step - loss: 5.2562e-04 - accuracy: 0.9998\n",
      "Epoch 9/10\n",
      "804/804 [==============================] - 3s 3ms/step - loss: 1.6673e-04 - accuracy: 1.0000\n",
      "Epoch 10/10\n",
      "796/804 [============================>.] - ETA: 0s - loss: 3.3835e-04 - accuracy: 0.9999\n",
      "Epoch 10: saving model to ../Resources/checkpoints/opt-weights.10.hdf5\n",
      "804/804 [==============================] - 3s 3ms/step - loss: 3.3505e-04 - accuracy: 0.9999\n"
     ]
    }
   ],
   "source": [
    "# Compile the model\n",
    "nn_optimized.compile(loss = 'binary_crossentropy', optimizer = 'adam', metrics = ['accuracy'])\n",
    "\n",
    "# Train the model\n",
    "import os\n",
    "os.makedirs(\"../Resources/checkpoints/\",exist_ok=True)\n",
    "checkpoint_filepath = \"../Resources/checkpoints/opt-weights.{epoch:02d}.hdf5\"\n",
    "checkpoint_callback = tf.keras.callbacks.ModelCheckpoint(\n",
    "    filepath = checkpoint_filepath\n",
    "    ,save_weights_only = True\n",
    "    ,verbose = 1\n",
    "    ,save_freq = 'epoch'\n",
    "    ,period = 5\n",
    ")\n",
    "fit_model = nn_optimized.fit(X_train_scaled, y_train, epochs = 10, callbacks = [checkpoint_callback])"
   ]
  },
  {
   "cell_type": "markdown",
   "metadata": {},
   "source": [
    "#### The results are saved to an HDF5 file (2.5 pt)"
   ]
  },
  {
   "cell_type": "code",
   "execution_count": 19,
   "metadata": {},
   "outputs": [
    {
     "name": "stdout",
     "output_type": "stream",
     "text": [
      "268/268 - 0s - loss: 7.7196e-06 - accuracy: 1.0000 - 404ms/epoch - 2ms/step\n",
      "Loss: 7.719573659414891e-06, Accuracy: 1.0\n"
     ]
    }
   ],
   "source": [
    "# Evaluate the model using the test data\n",
    "model_loss, model_accuracy = nn_optimized.evaluate(X_test_scaled, y_test, verbose=2)\n",
    "print(f\"Loss: {model_loss}, Accuracy: {model_accuracy}\")\n",
    "nn_optimized.save(\"AlphabetSoupCharity_Optimzation.h5\")"
   ]
  },
  {
   "cell_type": "code",
   "execution_count": null,
   "metadata": {},
   "outputs": [],
   "source": []
  },
  {
   "cell_type": "code",
   "execution_count": null,
   "metadata": {},
   "outputs": [],
   "source": []
  }
 ],
 "metadata": {
  "kernelspec": {
   "display_name": "mlenv",
   "language": "python",
   "name": "mlenv"
  },
  "language_info": {
   "codemirror_mode": {
    "name": "ipython",
    "version": 3
   },
   "file_extension": ".py",
   "mimetype": "text/x-python",
   "name": "python",
   "nbconvert_exporter": "python",
   "pygments_lexer": "ipython3",
   "version": "3.7.11"
  }
 },
 "nbformat": 4,
 "nbformat_minor": 4
}
